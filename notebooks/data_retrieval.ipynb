{
 "cells": [
  {
   "cell_type": "code",
   "execution_count": 96,
   "metadata": {},
   "outputs": [],
   "source": [
    "from google.cloud import bigquery\n",
    "import urllib.request\n",
    "import urllib.parse\n",
    "import json\n",
    "from dotenv import load_dotenv\n",
    "import os\n",
    "from datetime import datetime, timedelta\n",
    "\n",
    "load_dotenv()\n",
    "\n",
    "apikey = os.getenv('FMP_API_KEY')\n",
    "project_id = os.getenv('GCP_PROJECT_ID')"
   ]
  },
  {
   "cell_type": "code",
   "execution_count": 58,
   "metadata": {},
   "outputs": [
    {
     "data": {
      "text/plain": [
       "'stock-prices-442513.stock_data.raw_stock_data'"
      ]
     },
     "execution_count": 58,
     "metadata": {},
     "output_type": "execute_result"
    }
   ],
   "source": [
    "client = bigquery.Client(project=project_id)\n",
    "db = 'stock_data'\n",
    "table = 'raw_stock_data'\n",
    "table_id = f\"{project_id}.{db}.{table}\"\n",
    "table_id"
   ]
  },
  {
   "cell_type": "code",
   "execution_count": 97,
   "metadata": {},
   "outputs": [],
   "source": [
    "symbols = ['AAPL', 'TTD', 'GOOG']\n",
    "\n",
    "query_string = f\"\"\"\n",
    "    WITH symbol_list AS (\n",
    "        SELECT symbol\n",
    "        FROM UNNEST(@symbols) AS symbol\n",
    "    )\n",
    "    SELECT symbol_list.symbol, MAX(stock_data.`date`) AS `date`\n",
    "    FROM symbol_list\n",
    "    LEFT JOIN `{table_id}` AS stock_data\n",
    "    ON symbol_list.symbol = stock_data.`symbol`\n",
    "    GROUP BY symbol_list.symbol\n",
    "\"\"\"\n",
    "\n",
    "job_config = bigquery.QueryJobConfig(\n",
    "        query_parameters=[\n",
    "            bigquery.ArrayQueryParameter('symbols', 'STRING', symbols)\n",
    "        ]\n",
    "    )\n",
    "query_job = client.query(query_string, job_config=job_config)\n",
    "results = query_job.result()"
   ]
  },
  {
   "cell_type": "code",
   "execution_count": null,
   "metadata": {},
   "outputs": [
    {
     "data": {
      "text/plain": [
       "[['AAPL', '2024-11-23'], ['TTD', '2024-11-23'], ['GOOG', '2024-11-19']]"
      ]
     },
     "execution_count": 98,
     "metadata": {},
     "output_type": "execute_result"
    }
   ],
   "source": [
    "api_lookup = []\n",
    "default_date = '2024-11-19'\n",
    "\n",
    "for row in results:\n",
    "    if row['date']:\n",
    "        date_plus_1 = row['date'] + timedelta(days=1)\n",
    "        r = [\n",
    "            row['symbol'],\n",
    "            datetime.strftime(date_plus_1, format='%Y-%m-%d')\n",
    "        ]\n",
    "    else:\n",
    "        r = [\n",
    "            row['symbol'],\n",
    "            default_date\n",
    "        ]\n",
    "\n",
    "    api_lookup.append(r)\n",
    "\n",
    "api_lookup"
   ]
  },
  {
   "cell_type": "code",
   "execution_count": null,
   "metadata": {},
   "outputs": [],
   "source": [
    "def historical_url(apikey, ticker, from_date=None):\n",
    "    url = 'https://financialmodelingprep.com/api/v3/historical-price-full/'\n",
    "\n",
    "    query_params = {\n",
    "        'apikey': apikey\n",
    "    }\n",
    "\n",
    "    if from_date is not None:\n",
    "        query_params['from'] = from_date\n",
    "\n",
    "    encoded_params = urllib.parse.urlencode(query_params)\n",
    "\n",
    "    full_url = f\"{url}{ticker}?{encoded_params}\"\n",
    "\n",
    "    return full_url\n",
    "\n",
    "response = urllib.request.urlopen(historical_url(apikey, 'TTD', '2024-11-20'))\n",
    "\n",
    "data = json.loads(response.read())"
   ]
  },
  {
   "cell_type": "code",
   "execution_count": null,
   "metadata": {},
   "outputs": [],
   "source": [
    "def retrieve_data(apikey, symbol, from_date):\n",
    "    url = historical_url(apikey, symbol, from_date)\n",
    "    response = urllib.request.urlopen(url)\n",
    "    data = json.loads(response.read())\n",
    "    return data"
   ]
  },
  {
   "cell_type": "code",
   "execution_count": null,
   "metadata": {},
   "outputs": [],
   "source": [
    "def process_data(apikey, api_lookup):\n",
    "    for item in api_lookup:\n",
    "        symbol = item[0],\n",
    "        from_date = item[1]\n",
    "        data = retrieve_data(apikey, symbol, from_date)\n",
    "        for stock_data in data['historical']:\n",
    "            stock_data['symbol'] = data['symbol']\n",
    "            stock_data['timestamp'] = datetime.now().isoformat()\n",
    "        rows_to_insert = stock_data['historical']\n",
    "        errors = client.insert_rows_json(table_id, rows_to_insert)\n",
    "        if errors == []:\n",
    "            print(\"Data inserted successfully.\")\n",
    "        else:\n",
    "            print(\"Encountered errors while inserting rows:\", errors)\n"
   ]
  }
 ],
 "metadata": {
  "kernelspec": {
   "display_name": "stocks-dashboard-venv",
   "language": "python",
   "name": "python3"
  },
  "language_info": {
   "codemirror_mode": {
    "name": "ipython",
    "version": 3
   },
   "file_extension": ".py",
   "mimetype": "text/x-python",
   "name": "python",
   "nbconvert_exporter": "python",
   "pygments_lexer": "ipython3",
   "version": "3.9.6"
  }
 },
 "nbformat": 4,
 "nbformat_minor": 2
}
