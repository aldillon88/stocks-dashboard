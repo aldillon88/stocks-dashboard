{
 "cells": [
  {
   "cell_type": "code",
   "execution_count": 129,
   "metadata": {},
   "outputs": [],
   "source": [
    "from google.cloud import bigquery\n",
    "import urllib.request\n",
    "import urllib.parse\n",
    "import json\n",
    "from dotenv import load_dotenv\n",
    "import os\n",
    "from datetime import datetime, timedelta\n",
    "\n",
    "load_dotenv()\n",
    "\n",
    "apikey = os.getenv('FMP_API_KEY')\n",
    "project_id = os.getenv('GCP_PROJECT_ID')"
   ]
  },
  {
   "cell_type": "code",
   "execution_count": 130,
   "metadata": {},
   "outputs": [
    {
     "data": {
      "text/plain": [
       "'stock-prices-442513.stock_data.raw_stock_data'"
      ]
     },
     "execution_count": 130,
     "metadata": {},
     "output_type": "execute_result"
    }
   ],
   "source": [
    "client = bigquery.Client(project=project_id)\n",
    "db = 'stock_data'\n",
    "table = 'raw_stock_data'\n",
    "table_id = f\"{project_id}.{db}.{table}\"\n",
    "table_id"
   ]
  },
  {
   "cell_type": "code",
   "execution_count": 131,
   "metadata": {},
   "outputs": [],
   "source": [
    "symbols = ['AAPL', 'TTD', 'GOOG']\n",
    "\n",
    "query_string = f\"\"\"\n",
    "    WITH symbol_list AS (\n",
    "        SELECT symbol\n",
    "        FROM UNNEST(@symbols) AS symbol\n",
    "    )\n",
    "    SELECT symbol_list.symbol, MAX(stock_data.`date`) AS `date`\n",
    "    FROM symbol_list\n",
    "    LEFT JOIN `{table_id}` AS stock_data\n",
    "    ON symbol_list.symbol = stock_data.`symbol`\n",
    "    GROUP BY symbol_list.symbol\n",
    "\"\"\"\n",
    "\n",
    "job_config = bigquery.QueryJobConfig(\n",
    "        query_parameters=[\n",
    "            bigquery.ArrayQueryParameter('symbols', 'STRING', symbols)\n",
    "        ]\n",
    "    )\n",
    "query_job = client.query(query_string, job_config=job_config)\n",
    "results = query_job.result()"
   ]
  },
  {
   "cell_type": "code",
   "execution_count": 132,
   "metadata": {},
   "outputs": [
    {
     "data": {
      "text/plain": [
       "[['AAPL', '2024-11-23'], ['TTD', '2024-11-23'], ['GOOG', '2024-11-19']]"
      ]
     },
     "execution_count": 132,
     "metadata": {},
     "output_type": "execute_result"
    }
   ],
   "source": [
    "api_lookup = []\n",
    "default_date = '2024-11-19'\n",
    "\n",
    "for row in results:\n",
    "    if row['date']:\n",
    "        date_plus_1 = row['date'] + timedelta(days=1)\n",
    "        r = [\n",
    "            row['symbol'],\n",
    "            datetime.strftime(date_plus_1, format='%Y-%m-%d')\n",
    "        ]\n",
    "    else:\n",
    "        r = [\n",
    "            row['symbol'],\n",
    "            default_date\n",
    "        ]\n",
    "\n",
    "    api_lookup.append(r)\n",
    "\n",
    "api_lookup"
   ]
  },
  {
   "cell_type": "code",
   "execution_count": null,
   "metadata": {},
   "outputs": [],
   "source": [
    "def historical_url(apikey, ticker, from_date=None):\n",
    "    url = 'https://financialmodelingprep.com/api/v3/historical-price-full/'\n",
    "\n",
    "    query_params = {\n",
    "        'apikey': apikey\n",
    "    }\n",
    "\n",
    "    if from_date is not None:\n",
    "        query_params['from'] = from_date\n",
    "\n",
    "    encoded_params = urllib.parse.urlencode(query_params)\n",
    "\n",
    "    full_url = f\"{url}{ticker}?{encoded_params}\"\n",
    "\n",
    "    return full_url\n"
   ]
  },
  {
   "cell_type": "code",
   "execution_count": 142,
   "metadata": {},
   "outputs": [],
   "source": [
    "def retrieve_data(apikey, symbol, from_date):\n",
    "    url = historical_url(apikey, symbol, from_date)\n",
    "    print('The URL is: ', url)\n",
    "    response = urllib.request.urlopen(url)\n",
    "    data = json.loads(response.read())\n",
    "    print('The data is: ', data)\n",
    "    return data"
   ]
  },
  {
   "cell_type": "code",
   "execution_count": 170,
   "metadata": {},
   "outputs": [],
   "source": [
    "def process_data(apikey, api_lookup):\n",
    "    \"\"\"\n",
    "    Args:\n",
    "        apikey: string\n",
    "        api_lookup: list of lists, each with two items\n",
    "    \"\"\"\n",
    "    for item in api_lookup:\n",
    "        symbol = item[0]\n",
    "        from_date = item[1]\n",
    "        stock_data = retrieve_data(apikey, symbol, from_date)\n",
    "        if stock_data:\n",
    "            for data in stock_data['historical']:\n",
    "                data['symbol'] = stock_data['symbol']\n",
    "                data['timestamp'] = datetime.now().isoformat()\n",
    "            rows_to_insert = stock_data['historical']\n",
    "            print('rows_to_insert:\\n', rows_to_insert)\n",
    "            errors = client.insert_rows_json(table_id, rows_to_insert)\n",
    "            if errors == []:\n",
    "                print(\"Data inserted successfully.\")\n",
    "            else:\n",
    "                print(\"Encountered errors while inserting rows:\", errors)\n",
    "        else:\n",
    "            print('stock_data is empty')\n"
   ]
  },
  {
   "cell_type": "code",
   "execution_count": 171,
   "metadata": {},
   "outputs": [
    {
     "name": "stdout",
     "output_type": "stream",
     "text": [
      "The URL is:  https://financialmodelingprep.com/api/v3/historical-price-full/AAPL?apikey=A8nw0ZRk5pklqvIiAfgBsTckdIorJ07q&from=2024-11-23\n",
      "The data is:  {}\n",
      "stock_data is empty\n",
      "The URL is:  https://financialmodelingprep.com/api/v3/historical-price-full/TTD?apikey=A8nw0ZRk5pklqvIiAfgBsTckdIorJ07q&from=2024-11-23\n",
      "The data is:  {}\n",
      "stock_data is empty\n",
      "The URL is:  https://financialmodelingprep.com/api/v3/historical-price-full/GOOG?apikey=A8nw0ZRk5pklqvIiAfgBsTckdIorJ07q&from=2024-11-19\n",
      "The data is:  {'symbol': 'GOOG', 'historical': [{'date': '2024-11-22', 'open': 167.16, 'high': 168.26, 'low': 165.71, 'close': 166.57, 'adjClose': 166.57, 'volume': 23888727, 'unadjustedVolume': 23888727, 'change': -0.59, 'changePercent': -0.35296, 'vwap': 166.925, 'label': 'November 22, 24', 'changeOverTime': -0.0035296}, {'date': '2024-11-21', 'open': 175.46, 'high': 175.58, 'low': 165.31, 'close': 169.24, 'adjClose': 169.24, 'volume': 38839431, 'unadjustedVolume': 38839431, 'change': -6.22, 'changePercent': -3.54, 'vwap': 171.3975, 'label': 'November 21, 24', 'changeOverTime': -0.0354}, {'date': '2024-11-20', 'open': 178.83, 'high': 179.11, 'low': 175.33, 'close': 177.33, 'adjClose': 177.33, 'volume': 15729806, 'unadjustedVolume': 15729806, 'change': -1.5, 'changePercent': -0.83879, 'vwap': 177.65, 'label': 'November 20, 24', 'changeOverTime': -0.0083879}, {'date': '2024-11-19', 'open': 175.24, 'high': 180.17, 'low': 175.12, 'close': 179.58, 'adjClose': 179.58, 'volume': 15392900, 'unadjustedVolume': 15392900, 'change': 4.34, 'changePercent': 2.48, 'vwap': 177.5275, 'label': 'November 19, 24', 'changeOverTime': 0.0248}]}\n",
      "rows_to_insert:\n",
      " [{'date': '2024-11-22', 'open': 167.16, 'high': 168.26, 'low': 165.71, 'close': 166.57, 'adjClose': 166.57, 'volume': 23888727, 'unadjustedVolume': 23888727, 'change': -0.59, 'changePercent': -0.35296, 'vwap': 166.925, 'label': 'November 22, 24', 'changeOverTime': -0.0035296, 'symbol': 'GOOG', 'timestamp': '2024-11-24T12:53:23.453808'}, {'date': '2024-11-21', 'open': 175.46, 'high': 175.58, 'low': 165.31, 'close': 169.24, 'adjClose': 169.24, 'volume': 38839431, 'unadjustedVolume': 38839431, 'change': -6.22, 'changePercent': -3.54, 'vwap': 171.3975, 'label': 'November 21, 24', 'changeOverTime': -0.0354, 'symbol': 'GOOG', 'timestamp': '2024-11-24T12:53:23.453827'}, {'date': '2024-11-20', 'open': 178.83, 'high': 179.11, 'low': 175.33, 'close': 177.33, 'adjClose': 177.33, 'volume': 15729806, 'unadjustedVolume': 15729806, 'change': -1.5, 'changePercent': -0.83879, 'vwap': 177.65, 'label': 'November 20, 24', 'changeOverTime': -0.0083879, 'symbol': 'GOOG', 'timestamp': '2024-11-24T12:53:23.453830'}, {'date': '2024-11-19', 'open': 175.24, 'high': 180.17, 'low': 175.12, 'close': 179.58, 'adjClose': 179.58, 'volume': 15392900, 'unadjustedVolume': 15392900, 'change': 4.34, 'changePercent': 2.48, 'vwap': 177.5275, 'label': 'November 19, 24', 'changeOverTime': 0.0248, 'symbol': 'GOOG', 'timestamp': '2024-11-24T12:53:23.453832'}]\n",
      "Data inserted successfully.\n"
     ]
    }
   ],
   "source": [
    "data = process_data(apikey, api_lookup)"
   ]
  }
 ],
 "metadata": {
  "kernelspec": {
   "display_name": "stocks-dashboard-venv",
   "language": "python",
   "name": "python3"
  },
  "language_info": {
   "codemirror_mode": {
    "name": "ipython",
    "version": 3
   },
   "file_extension": ".py",
   "mimetype": "text/x-python",
   "name": "python",
   "nbconvert_exporter": "python",
   "pygments_lexer": "ipython3",
   "version": "3.9.6"
  }
 },
 "nbformat": 4,
 "nbformat_minor": 2
}
