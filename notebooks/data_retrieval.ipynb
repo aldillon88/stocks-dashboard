{
 "cells": [
  {
   "cell_type": "code",
   "execution_count": 32,
   "metadata": {},
   "outputs": [],
   "source": [
    "from google.cloud import bigquery\n",
    "import urllib.request\n",
    "import urllib.parse\n",
    "import json\n",
    "from dotenv import load_dotenv\n",
    "import os\n",
    "from datetime import datetime\n",
    "\n",
    "load_dotenv()\n",
    "\n",
    "apikey = os.getenv('FMP_API_KEY')\n",
    "project_id = os.getenv('GCP_PROJECT_ID')"
   ]
  },
  {
   "cell_type": "code",
   "execution_count": 33,
   "metadata": {},
   "outputs": [
    {
     "data": {
      "text/plain": [
       "'stock-prices-442513.stock_data.raw_stock_data'"
      ]
     },
     "execution_count": 33,
     "metadata": {},
     "output_type": "execute_result"
    }
   ],
   "source": [
    "client = bigquery.Client(project=project_id)\n",
    "db = 'stock_data'\n",
    "table = 'raw_stock_data'\n",
    "table_id = f\"{project_id}.{db}.{table}\"\n",
    "table_id"
   ]
  },
  {
   "cell_type": "code",
   "execution_count": null,
   "metadata": {},
   "outputs": [],
   "source": []
  },
  {
   "cell_type": "code",
   "execution_count": 55,
   "metadata": {},
   "outputs": [],
   "source": [
    "symbol = 'AAPL'\n",
    "\n",
    "query_string = f\"\"\"\n",
    "    SELECT `date`\n",
    "    FROM `{table_id}`\n",
    "    WHERE `symbol` = @symbol\n",
    "    ORDER BY `date` DESC\n",
    "    LIMIT 1\n",
    "\"\"\"\n",
    "\n",
    "job_config = bigquery.QueryJobConfig(\n",
    "    query_parameters=[\n",
    "        bigquery.ScalarQueryParameter('symbol', 'STRING', symbol)\n",
    "    ]\n",
    ")\n",
    "query_job = client.query(query_string, job_config=job_config)\n",
    "results = query_job.result()"
   ]
  },
  {
   "cell_type": "code",
   "execution_count": 56,
   "metadata": {},
   "outputs": [
    {
     "name": "stdout",
     "output_type": "stream",
     "text": [
      "2024-11-22\n"
     ]
    }
   ],
   "source": [
    "for row in results:\n",
    "    print(row.date)"
   ]
  },
  {
   "cell_type": "code",
   "execution_count": 34,
   "metadata": {},
   "outputs": [],
   "source": [
    "def historical_url(ticker, apikey, from_date=None):\n",
    "    url = 'https://financialmodelingprep.com/api/v3/historical-price-full/'\n",
    "\n",
    "    query_params = {\n",
    "        'apikey': apikey\n",
    "    }\n",
    "\n",
    "    if from_date is not None:\n",
    "        query_params['from'] = from_date\n",
    "\n",
    "    encoded_params = urllib.parse.urlencode(query_params)\n",
    "\n",
    "    full_url = f\"{url}{ticker}?{encoded_params}\"\n",
    "\n",
    "    return full_url\n",
    "\n",
    "response = urllib.request.urlopen(historical_url('AAPL', apikey, '2024-11-20'))\n",
    "\n",
    "data = json.loads(response.read())"
   ]
  },
  {
   "cell_type": "code",
   "execution_count": 35,
   "metadata": {},
   "outputs": [
    {
     "name": "stdout",
     "output_type": "stream",
     "text": [
      "Data inserted successfully.\n"
     ]
    }
   ],
   "source": [
    "for item in data['historical']:\n",
    "    item['symbol'] = data['symbol']\n",
    "    item['timestamp'] = datetime.now().isoformat()\n",
    "\n",
    "rows_to_insert = data['historical']\n",
    "errors = client.insert_rows_json(table_id, rows_to_insert)\n",
    "\n",
    "if errors == []:\n",
    "    print(\"Data inserted successfully.\")\n",
    "else:\n",
    "    print(\"Encountered errors while inserting rows:\", errors)"
   ]
  }
 ],
 "metadata": {
  "kernelspec": {
   "display_name": "stocks-dashboard-venv",
   "language": "python",
   "name": "python3"
  },
  "language_info": {
   "codemirror_mode": {
    "name": "ipython",
    "version": 3
   },
   "file_extension": ".py",
   "mimetype": "text/x-python",
   "name": "python",
   "nbconvert_exporter": "python",
   "pygments_lexer": "ipython3",
   "version": "3.9.6"
  }
 },
 "nbformat": 4,
 "nbformat_minor": 2
}
